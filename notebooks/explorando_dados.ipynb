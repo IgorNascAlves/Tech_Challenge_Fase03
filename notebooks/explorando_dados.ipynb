{
 "cells": [
  {
   "cell_type": "code",
   "execution_count": 1,
   "metadata": {},
   "outputs": [],
   "source": [
    "import sqlite3\n",
    "import pandas as pd"
   ]
  },
  {
   "cell_type": "code",
   "execution_count": 2,
   "metadata": {},
   "outputs": [],
   "source": [
    "# Connect to an SQLite database (replace 'your_database_name.db' with your actual database file)\n",
    "connection = sqlite3.connect('../mydata.db')"
   ]
  },
  {
   "cell_type": "markdown",
   "metadata": {},
   "source": [
    "# Bigquery"
   ]
  },
  {
   "cell_type": "code",
   "execution_count": null,
   "metadata": {},
   "outputs": [],
   "source": [
    "# from google.cloud import bigquery\n",
    "\n",
    "# # Configure a client using your credentials\n",
    "# client = bigquery.Client()\n",
    "\n",
    "# # Get a list of table names in your dataset\n",
    "# dataset_id = 'your-project-id.your-dataset-id'  # Replace with your project and dataset ID\n",
    "# tables = client.list_tables(dataset_id)\n",
    "\n",
    "# # Print the table names\n",
    "# for table in tables:\n",
    "#     print(table.table_id)\n",
    "\n",
    "# # No need to close the client for Google Cloud BigQuery\n"
   ]
  },
  {
   "cell_type": "code",
   "execution_count": null,
   "metadata": {},
   "outputs": [],
   "source": [
    "# from google.cloud import bigquery\n",
    "# import pandas as pd\n",
    "\n",
    "# # Configure a client using your credentials\n",
    "# client = bigquery.Client()\n",
    "\n",
    "# dataset_id = 'your-project-id.your-dataset-id'  # Substitua pelo seu projeto e ID do conjunto de dados\n",
    "\n",
    "# list_tables = [\n",
    "#     'maio_2020',\n",
    "#     'junho_2020',\n",
    "#     'julho_2020',\n",
    "#     'agosto_2020',\n",
    "#     'setembro_2020',\n",
    "#     'outubro_2020',\n",
    "#     'novembro_2020'\n",
    "# ]\n",
    "\n",
    "# # Leitura das tabelas e armazenamento dos DataFrames em uma lista\n",
    "# dfs = []\n",
    "# for table in list_tables:\n",
    "#     table_ref = client.dataset(dataset_id).table(table)\n",
    "#     df = client.query(f\"SELECT * FROM `{table_ref}`\").to_dataframe()\n",
    "#     dfs.append(df)\n",
    "\n",
    "# # Agora você tem uma lista de DataFrames, um para cada tabela\n"
   ]
  },
  {
   "cell_type": "markdown",
   "metadata": {},
   "source": [
    "# Local"
   ]
  },
  {
   "cell_type": "code",
   "execution_count": 3,
   "metadata": {},
   "outputs": [
    {
     "name": "stdout",
     "output_type": "stream",
     "text": [
      "consolidado\n",
      "maio_2020\n",
      "junho_2020\n",
      "julho_2020\n",
      "agosto_2020\n",
      "setembro_2020\n",
      "outubro_2020\n",
      "novembro_2020\n"
     ]
    }
   ],
   "source": [
    "cursor = connection.cursor()\n",
    "\n",
    "# Get a list of table names in the database\n",
    "cursor.execute(\"SELECT name FROM sqlite_master WHERE type='table';\")\n",
    "tables = cursor.fetchall()\n",
    "\n",
    "# Print the table names\n",
    "for table in tables:\n",
    "    print(table[0])\n",
    "\n",
    "\n",
    "# Close the cursor\n",
    "cursor.close()"
   ]
  },
  {
   "cell_type": "code",
   "execution_count": 5,
   "metadata": {},
   "outputs": [],
   "source": [
    "list_tables = {\n",
    "    'maio_2020',\n",
    "    'junho_2020',\n",
    "    'julho_2020',\n",
    "    'agosto_2020',\n",
    "    'setembro_2020',\n",
    "    'outubro_2020',\n",
    "    'novembro_2020',\n",
    "}"
   ]
  },
  {
   "cell_type": "code",
   "execution_count": 6,
   "metadata": {},
   "outputs": [],
   "source": [
    "#read all tables\n",
    "dfs = []\n",
    "for table in list_tables:\n",
    "    dfs.append(pd.read_sql_query(\"SELECT * from \" + table, connection))"
   ]
  },
  {
   "cell_type": "code",
   "execution_count": 7,
   "metadata": {},
   "outputs": [],
   "source": [
    "# Close connection\n",
    "connection.close()"
   ]
  },
  {
   "cell_type": "code",
   "execution_count": 8,
   "metadata": {},
   "outputs": [
    {
     "name": "stdout",
     "output_type": "stream",
     "text": [
      "Tudo nulo\n",
      "Tudo nulo\n",
      "Tudo nulo\n",
      "Tudo nulo\n",
      "Tudo nulo\n",
      "Tudo nulo\n",
      "Tudo nulo\n"
     ]
    }
   ],
   "source": [
    "for ind in range(len(dfs)):\n",
    "    try:\n",
    "        dfs[ind].dropna()['CO13']\n",
    "    except KeyError:\n",
    "        print('Tudo nulo')"
   ]
  },
  {
   "cell_type": "code",
   "execution_count": 10,
   "metadata": {},
   "outputs": [
    {
     "name": "stdout",
     "output_type": "stream",
     "text": [
      "114\n",
      "145\n",
      "145\n",
      "145\n",
      "145\n",
      "114\n",
      "148\n"
     ]
    }
   ],
   "source": [
    "for ind in range(len(dfs)):\n",
    "    print(len(dfs[ind].columns))"
   ]
  },
  {
   "cell_type": "code",
   "execution_count": 12,
   "metadata": {},
   "outputs": [
    {
     "name": "stdout",
     "output_type": "stream",
     "text": [
      "114\n",
      "145\n",
      "145\n",
      "145\n",
      "145\n",
      "114\n",
      "148\n"
     ]
    }
   ],
   "source": [
    "for ind in range(len(dfs)):\n",
    "    print(len(dfs[ind].dropna().columns))"
   ]
  },
  {
   "cell_type": "code",
   "execution_count": 14,
   "metadata": {},
   "outputs": [
    {
     "name": "stdout",
     "output_type": "stream",
     "text": [
      "['Ano', 'UF', 'CAPITAL', 'RM_RIDE', 'V1008', 'V1012', 'V1013', 'V1016', 'Estrato', 'UPA', 'V1022', 'V1023', 'V1030', 'V1031', 'V1032', 'posest', 'A001', 'A001A', 'A001B1', 'A001B2', 'A001B3', 'A002', 'A003', 'A004', 'A005', 'B0011', 'B0012', 'B0013', 'B0014', 'B0015', 'B0016', 'B0017', 'B0018', 'B0019', 'B00110', 'B00111', 'B00112', 'B002', 'B0031', 'B0032', 'B0033', 'B0034', 'B0035', 'B0036', 'B0037', 'B0041', 'B0042', 'B0043', 'B0044', 'B0045', 'B0046', 'B005', 'B006', 'B007', 'C001', 'C002', 'C003', 'C004', 'C005', 'C0051', 'C0052', 'C0053', 'C006', 'C007', 'C007A', 'C007B', 'C007C', 'C007D', 'C007E', 'C007E1', 'C007E2', 'C008', 'C009', 'C010', 'C0101', 'C01011', 'C01012', 'C0102', 'C01021', 'C01022', 'C0103', 'C0104', 'C011A', 'C011A1', 'C011A11', 'C011A12', 'C011A2', 'C011A21', 'C011A22', 'C012', 'C013', 'C014', 'C015', 'C016', 'C017A', 'D0011', 'D0013', 'D0021', 'D0023', 'D0031', 'D0033', 'D0041', 'D0043', 'D0051', 'D0053', 'D0061', 'D0063', 'D0071', 'D0073', 'F001', 'F0021', 'F0022', 'F0061', 'F006']\n",
      "['Ano', 'UF', 'CAPITAL', 'RM_RIDE', 'V1008', 'V1012', 'V1013', 'V1016', 'Estrato', 'UPA', 'V1022', 'V1023', 'V1030', 'V1031', 'V1032', 'posest', 'A001', 'A001A', 'A001B1', 'A001B2', 'A001B3', 'A002', 'A003', 'A004', 'A005', 'A006', 'A007', 'A008', 'A009', 'B0011', 'B0012', 'B0013', 'B0014', 'B0015', 'B0016', 'B0017', 'B0018', 'B0019', 'B00110', 'B00111', 'B00112', 'B00113', 'B002', 'B0031', 'B0032', 'B0033', 'B0034', 'B0035', 'B0036', 'B0037', 'B0041', 'B0042', 'B0043', 'B0044', 'B0045', 'B0046', 'B005', 'B006', 'B007', 'B008', 'B009A', 'B009B', 'B009C', 'B009D', 'B009E', 'B009F', 'B0101', 'B0102', 'B0103', 'B0104', 'B0105', 'B0106', 'B011', 'C001', 'C002', 'C003', 'C004', 'C005', 'C0051', 'C0052', 'C0053', 'C006', 'C007', 'C007A', 'C007B', 'C007C', 'C007D', 'C007E', 'C007E1', 'C007E2', 'C007F', 'C008', 'C009', 'C009A', 'C010', 'C0101', 'C01011', 'C01012', 'C0102', 'C01021', 'C01022', 'C0103', 'C0104', 'C011A', 'C011A1', 'C011A11', 'C011A12', 'C011A2', 'C011A21', 'C011A22', 'C012', 'C013', 'C014', 'C015', 'C016', 'C017A', 'D0011', 'D0013', 'D0021', 'D0023', 'D0031', 'D0033', 'D0041', 'D0043', 'D0051', 'D0053', 'D0061', 'D0063', 'D0071', 'D0073', 'E001', 'E0021', 'E0022', 'E0023', 'E0024', 'F001', 'F0021', 'F0022', 'F002A1', 'F002A2', 'F002A3', 'F002A4', 'F002A5', 'F0061', 'F006']\n",
      "['Ano', 'UF', 'CAPITAL', 'RM_RIDE', 'V1008', 'V1012', 'V1013', 'V1016', 'Estrato', 'UPA', 'V1022', 'V1023', 'V1030', 'V1031', 'V1032', 'posest', 'A001', 'A001A', 'A001B1', 'A001B2', 'A001B3', 'A002', 'A003', 'A004', 'A005', 'A006', 'A007', 'A008', 'A009', 'B0011', 'B0012', 'B0013', 'B0014', 'B0015', 'B0016', 'B0017', 'B0018', 'B0019', 'B00110', 'B00111', 'B00112', 'B00113', 'B002', 'B0031', 'B0032', 'B0033', 'B0034', 'B0035', 'B0036', 'B0037', 'B0041', 'B0042', 'B0043', 'B0044', 'B0045', 'B0046', 'B005', 'B006', 'B007', 'B008', 'B009A', 'B009B', 'B009C', 'B009D', 'B009E', 'B009F', 'B0101', 'B0102', 'B0103', 'B0104', 'B0105', 'B0106', 'B011', 'C001', 'C002', 'C003', 'C004', 'C005', 'C0051', 'C0052', 'C0053', 'C006', 'C007', 'C007A', 'C007B', 'C007C', 'C007D', 'C007E', 'C007E1', 'C007E2', 'C007F', 'C008', 'C009', 'C009A', 'C010', 'C0101', 'C01011', 'C01012', 'C0102', 'C01021', 'C01022', 'C0103', 'C0104', 'C011A', 'C011A1', 'C011A11', 'C011A12', 'C011A2', 'C011A21', 'C011A22', 'C012', 'C013', 'C014', 'C015', 'C016', 'C017A', 'D0011', 'D0013', 'D0021', 'D0023', 'D0031', 'D0033', 'D0041', 'D0043', 'D0051', 'D0053', 'D0061', 'D0063', 'D0071', 'D0073', 'E001', 'E0021', 'E0022', 'E0023', 'E0024', 'F001', 'F0021', 'F0022', 'F002A1', 'F002A2', 'F002A3', 'F002A4', 'F002A5', 'F0061', 'F006']\n",
      "['Ano', 'UF', 'CAPITAL', 'RM_RIDE', 'V1008', 'V1012', 'V1013', 'V1016', 'Estrato', 'UPA', 'V1022', 'V1023', 'V1030', 'V1031', 'V1032', 'posest', 'A001', 'A001A', 'A001B1', 'A001B2', 'A001B3', 'A002', 'A003', 'A004', 'A005', 'A006', 'A007', 'A008', 'A009', 'B0011', 'B0012', 'B0013', 'B0014', 'B0015', 'B0016', 'B0017', 'B0018', 'B0019', 'B00110', 'B00111', 'B00112', 'B00113', 'B002', 'B0031', 'B0032', 'B0033', 'B0034', 'B0035', 'B0036', 'B0037', 'B0041', 'B0042', 'B0043', 'B0044', 'B0045', 'B0046', 'B005', 'B006', 'B007', 'B008', 'B009A', 'B009B', 'B009C', 'B009D', 'B009E', 'B009F', 'B0101', 'B0102', 'B0103', 'B0104', 'B0105', 'B0106', 'B011', 'C001', 'C002', 'C003', 'C004', 'C005', 'C0051', 'C0052', 'C0053', 'C006', 'C007', 'C007A', 'C007B', 'C007C', 'C007D', 'C007E', 'C007E1', 'C007E2', 'C007F', 'C008', 'C009', 'C009A', 'C010', 'C0101', 'C01011', 'C01012', 'C0102', 'C01021', 'C01022', 'C0103', 'C0104', 'C011A', 'C011A1', 'C011A11', 'C011A12', 'C011A2', 'C011A21', 'C011A22', 'C012', 'C013', 'C014', 'C015', 'C016', 'C017A', 'D0011', 'D0013', 'D0021', 'D0023', 'D0031', 'D0033', 'D0041', 'D0043', 'D0051', 'D0053', 'D0061', 'D0063', 'D0071', 'D0073', 'E001', 'E0021', 'E0022', 'E0023', 'E0024', 'F001', 'F0021', 'F0022', 'F002A1', 'F002A2', 'F002A3', 'F002A4', 'F002A5', 'F0061', 'F006']\n",
      "['Ano', 'UF', 'CAPITAL', 'RM_RIDE', 'V1008', 'V1012', 'V1013', 'V1016', 'Estrato', 'UPA', 'V1022', 'V1023', 'V1030', 'V1031', 'V1032', 'posest', 'A001', 'A001A', 'A001B1', 'A001B2', 'A001B3', 'A002', 'A003', 'A004', 'A005', 'A006', 'A007', 'A008', 'A009', 'B0011', 'B0012', 'B0013', 'B0014', 'B0015', 'B0016', 'B0017', 'B0018', 'B0019', 'B00110', 'B00111', 'B00112', 'B00113', 'B002', 'B0031', 'B0032', 'B0033', 'B0034', 'B0035', 'B0036', 'B0037', 'B0041', 'B0042', 'B0043', 'B0044', 'B0045', 'B0046', 'B005', 'B006', 'B007', 'B008', 'B009A', 'B009B', 'B009C', 'B009D', 'B009E', 'B009F', 'B0101', 'B0102', 'B0103', 'B0104', 'B0105', 'B0106', 'B011', 'C001', 'C002', 'C003', 'C004', 'C005', 'C0051', 'C0052', 'C0053', 'C006', 'C007', 'C007A', 'C007B', 'C007C', 'C007D', 'C007E', 'C007E1', 'C007E2', 'C007F', 'C008', 'C009', 'C009A', 'C010', 'C0101', 'C01011', 'C01012', 'C0102', 'C01021', 'C01022', 'C0103', 'C0104', 'C011A', 'C011A1', 'C011A11', 'C011A12', 'C011A2', 'C011A21', 'C011A22', 'C012', 'C013', 'C014', 'C015', 'C016', 'C017A', 'D0011', 'D0013', 'D0021', 'D0023', 'D0031', 'D0033', 'D0041', 'D0043', 'D0051', 'D0053', 'D0061', 'D0063', 'D0071', 'D0073', 'E001', 'E0021', 'E0022', 'E0023', 'E0024', 'F001', 'F0021', 'F0022', 'F002A1', 'F002A2', 'F002A3', 'F002A4', 'F002A5', 'F0061', 'F006']\n",
      "['Ano', 'UF', 'CAPITAL', 'RM_RIDE', 'V1008', 'V1012', 'V1013', 'V1016', 'Estrato', 'UPA', 'V1022', 'V1023', 'V1030', 'V1031', 'V1032', 'posest', 'A001', 'A001A', 'A001B1', 'A001B2', 'A001B3', 'A002', 'A003', 'A004', 'A005', 'B0011', 'B0012', 'B0013', 'B0014', 'B0015', 'B0016', 'B0017', 'B0018', 'B0019', 'B00110', 'B00111', 'B00112', 'B002', 'B0031', 'B0032', 'B0033', 'B0034', 'B0035', 'B0036', 'B0037', 'B0041', 'B0042', 'B0043', 'B0044', 'B0045', 'B0046', 'B005', 'B006', 'B007', 'C001', 'C002', 'C003', 'C004', 'C005', 'C0051', 'C0052', 'C0053', 'C006', 'C007', 'C007A', 'C007B', 'C007C', 'C007D', 'C007E', 'C007E1', 'C007E2', 'C008', 'C009', 'C010', 'C0101', 'C01011', 'C01012', 'C0102', 'C01021', 'C01022', 'C0103', 'C0104', 'C011A', 'C011A1', 'C011A11', 'C011A12', 'C011A2', 'C011A21', 'C011A22', 'C012', 'C013', 'C014', 'C015', 'C016', 'C017A', 'D0011', 'D0013', 'D0021', 'D0023', 'D0031', 'D0033', 'D0041', 'D0043', 'D0051', 'D0053', 'D0061', 'D0063', 'D0071', 'D0073', 'F001', 'F0021', 'F0022', 'F0061', 'F006']\n",
      "['Ano', 'UF', 'CAPITAL', 'RM_RIDE', 'V1008', 'V1012', 'V1013', 'V1016', 'Estrato', 'UPA', 'V1022', 'V1023', 'V1030', 'V1031', 'V1032', 'posest', 'A001', 'A001A', 'A001B1', 'A001B2', 'A001B3', 'A002', 'A003', 'A004', 'A005', 'A006', 'A006A', 'A006B', 'A007', 'A007A', 'A008', 'A009', 'B0011', 'B0012', 'B0013', 'B0014', 'B0015', 'B0016', 'B0017', 'B0018', 'B0019', 'B00110', 'B00111', 'B00112', 'B00113', 'B002', 'B0031', 'B0032', 'B0033', 'B0034', 'B0035', 'B0036', 'B0037', 'B0041', 'B0042', 'B0043', 'B0044', 'B0045', 'B0046', 'B005', 'B006', 'B007', 'B008', 'B009A', 'B009B', 'B009C', 'B009D', 'B009E', 'B009F', 'B0101', 'B0102', 'B0103', 'B0104', 'B0105', 'B0106', 'B011', 'C001', 'C002', 'C003', 'C004', 'C005', 'C0051', 'C0052', 'C0053', 'C006', 'C007', 'C007A', 'C007B', 'C007C', 'C007D', 'C007E', 'C007E1', 'C007E2', 'C007F', 'C008', 'C009', 'C009A', 'C010', 'C0101', 'C01011', 'C01012', 'C0102', 'C01021', 'C01022', 'C0103', 'C0104', 'C011A', 'C011A1', 'C011A11', 'C011A12', 'C011A2', 'C011A21', 'C011A22', 'C012', 'C013', 'C014', 'C015', 'C016', 'C017A', 'D0011', 'D0013', 'D0021', 'D0023', 'D0031', 'D0033', 'D0041', 'D0043', 'D0051', 'D0053', 'D0061', 'D0063', 'D0071', 'D0073', 'E001', 'E0021', 'E0022', 'E0023', 'E0024', 'F001', 'F0021', 'F0022', 'F002A1', 'F002A2', 'F002A3', 'F002A4', 'F002A5', 'F0061', 'F006']\n"
     ]
    }
   ],
   "source": [
    "#print all columns names from list of dfs\n",
    "for df in dfs:\n",
    "    print(df.columns.tolist())"
   ]
  },
  {
   "cell_type": "code",
   "execution_count": 15,
   "metadata": {},
   "outputs": [
    {
     "data": {
      "text/plain": [
       "114"
      ]
     },
     "execution_count": 15,
     "metadata": {},
     "output_type": "execute_result"
    }
   ],
   "source": [
    "#find common columns on dfs\n",
    "common_columns = list(set.intersection(*(set(df.columns.tolist()) for df in dfs)))\n",
    "len(common_columns)"
   ]
  },
  {
   "cell_type": "code",
   "execution_count": 27,
   "metadata": {},
   "outputs": [
    {
     "data": {
      "text/plain": [
       "(2650459, 115)"
      ]
     },
     "execution_count": 27,
     "metadata": {},
     "output_type": "execute_result"
    }
   ],
   "source": [
    "# Concatenate all data (only columns on common_columns) into one DataFrame create a column with the name of the table\n",
    "df = pd.concat([df[common_columns].assign(table=table) for table, df in zip(list_tables, dfs)])\n",
    "df.shape"
   ]
  },
  {
   "cell_type": "code",
   "execution_count": 28,
   "metadata": {},
   "outputs": [
    {
     "data": {
      "text/plain": [
       "2650459"
      ]
     },
     "execution_count": 28,
     "metadata": {},
     "output_type": "execute_result"
    }
   ],
   "source": [
    "#sum the number of lines of all dfs\n",
    "num_lines = 0\n",
    "for ind in range(len(dfs)):\n",
    "    num_lines += dfs[ind].shape[0]\n",
    "num_lines"
   ]
  },
  {
   "cell_type": "code",
   "execution_count": 29,
   "metadata": {},
   "outputs": [
    {
     "data": {
      "text/plain": [
       "115"
      ]
     },
     "execution_count": 29,
     "metadata": {},
     "output_type": "execute_result"
    }
   ],
   "source": [
    "len(df.columns)"
   ]
  },
  {
   "cell_type": "code",
   "execution_count": 30,
   "metadata": {},
   "outputs": [
    {
     "data": {
      "text/plain": [
       "114"
      ]
     },
     "execution_count": 30,
     "metadata": {},
     "output_type": "execute_result"
    }
   ],
   "source": [
    "len(common_columns)"
   ]
  },
  {
   "cell_type": "code",
   "execution_count": 34,
   "metadata": {},
   "outputs": [
    {
     "data": {
      "text/plain": [
       "array([ True,  True,  True,  True,  True,  True,  True,  True,  True,\n",
       "        True,  True,  True,  True,  True,  True,  True,  True,  True,\n",
       "        True,  True,  True,  True,  True,  True,  True,  True,  True,\n",
       "        True,  True,  True,  True,  True,  True,  True,  True,  True,\n",
       "        True,  True,  True,  True,  True,  True,  True,  True,  True,\n",
       "        True,  True,  True,  True,  True,  True,  True,  True,  True,\n",
       "        True,  True,  True,  True,  True,  True,  True,  True,  True,\n",
       "        True,  True,  True,  True,  True,  True,  True,  True,  True,\n",
       "        True,  True,  True,  True,  True,  True,  True,  True,  True,\n",
       "        True,  True,  True,  True,  True,  True,  True,  True,  True,\n",
       "        True,  True,  True,  True,  True,  True,  True,  True,  True,\n",
       "        True,  True,  True,  True,  True,  True,  True,  True,  True,\n",
       "        True,  True,  True,  True,  True,  True])"
      ]
     },
     "execution_count": 34,
     "metadata": {},
     "output_type": "execute_result"
    }
   ],
   "source": [
    "df.drop('table', axis=1).columns == common_columns"
   ]
  },
  {
   "cell_type": "code",
   "execution_count": 39,
   "metadata": {},
   "outputs": [
    {
     "data": {
      "text/html": [
       "<div>\n",
       "<style scoped>\n",
       "    .dataframe tbody tr th:only-of-type {\n",
       "        vertical-align: middle;\n",
       "    }\n",
       "\n",
       "    .dataframe tbody tr th {\n",
       "        vertical-align: top;\n",
       "    }\n",
       "\n",
       "    .dataframe thead th {\n",
       "        text-align: right;\n",
       "    }\n",
       "</style>\n",
       "<table border=\"1\" class=\"dataframe\">\n",
       "  <thead>\n",
       "    <tr style=\"text-align: right;\">\n",
       "      <th></th>\n",
       "      <th>Dicionário das variáveis da PNAD COVID</th>\n",
       "      <th>Unnamed: 1</th>\n",
       "      <th>Unnamed: 2</th>\n",
       "      <th>Unnamed: 3</th>\n",
       "      <th>Unnamed: 4</th>\n",
       "      <th>Unnamed: 5</th>\n",
       "    </tr>\n",
       "  </thead>\n",
       "  <tbody>\n",
       "    <tr>\n",
       "      <th>0</th>\n",
       "      <td>Tamanho</td>\n",
       "      <td>Código\\nda\\nvariável</td>\n",
       "      <td>Quesito</td>\n",
       "      <td>NaN</td>\n",
       "      <td>Categorias</td>\n",
       "      <td>NaN</td>\n",
       "    </tr>\n",
       "    <tr>\n",
       "      <th>1</th>\n",
       "      <td>NaN</td>\n",
       "      <td>NaN</td>\n",
       "      <td>nº</td>\n",
       "      <td>Descrição</td>\n",
       "      <td>Tipo</td>\n",
       "      <td>Descrição</td>\n",
       "    </tr>\n",
       "    <tr>\n",
       "      <th>2</th>\n",
       "      <td>Parte 1 - Identificação e Controle</td>\n",
       "      <td>NaN</td>\n",
       "      <td>NaN</td>\n",
       "      <td>NaN</td>\n",
       "      <td>NaN</td>\n",
       "      <td>NaN</td>\n",
       "    </tr>\n",
       "    <tr>\n",
       "      <th>3</th>\n",
       "      <td>4</td>\n",
       "      <td>Ano</td>\n",
       "      <td>NaN</td>\n",
       "      <td>Ano de referência</td>\n",
       "      <td>NaN</td>\n",
       "      <td>NaN</td>\n",
       "    </tr>\n",
       "    <tr>\n",
       "      <th>4</th>\n",
       "      <td>2</td>\n",
       "      <td>UF</td>\n",
       "      <td>NaN</td>\n",
       "      <td>Unidade da Federação</td>\n",
       "      <td>11</td>\n",
       "      <td>Rondônia</td>\n",
       "    </tr>\n",
       "    <tr>\n",
       "      <th>...</th>\n",
       "      <td>...</td>\n",
       "      <td>...</td>\n",
       "      <td>...</td>\n",
       "      <td>...</td>\n",
       "      <td>...</td>\n",
       "      <td>...</td>\n",
       "    </tr>\n",
       "    <tr>\n",
       "      <th>527</th>\n",
       "      <td>NaN</td>\n",
       "      <td>NaN</td>\n",
       "      <td>NaN</td>\n",
       "      <td>NaN</td>\n",
       "      <td>2</td>\n",
       "      <td>Pessoa não moradora</td>\n",
       "    </tr>\n",
       "    <tr>\n",
       "      <th>528</th>\n",
       "      <td>NaN</td>\n",
       "      <td>NaN</td>\n",
       "      <td>NaN</td>\n",
       "      <td>NaN</td>\n",
       "      <td>9</td>\n",
       "      <td>Ignorado</td>\n",
       "    </tr>\n",
       "    <tr>\n",
       "      <th>529</th>\n",
       "      <td>2</td>\n",
       "      <td>F006</td>\n",
       "      <td>F6</td>\n",
       "      <td>Número de ordem do morador que prestou as info...</td>\n",
       "      <td>1 a 30</td>\n",
       "      <td>Número de ordem do morador</td>\n",
       "    </tr>\n",
       "    <tr>\n",
       "      <th>530</th>\n",
       "      <td>NaN</td>\n",
       "      <td>NaN</td>\n",
       "      <td>NaN</td>\n",
       "      <td>NaN</td>\n",
       "      <td>99</td>\n",
       "      <td>Ignorado</td>\n",
       "    </tr>\n",
       "    <tr>\n",
       "      <th>531</th>\n",
       "      <td>NaN</td>\n",
       "      <td>NaN</td>\n",
       "      <td>NaN</td>\n",
       "      <td>NaN</td>\n",
       "      <td>NaN</td>\n",
       "      <td>Não aplicado</td>\n",
       "    </tr>\n",
       "  </tbody>\n",
       "</table>\n",
       "<p>532 rows × 6 columns</p>\n",
       "</div>"
      ],
      "text/plain": [
       "    Dicionário das variáveis da PNAD COVID            Unnamed: 1 Unnamed: 2  \\\n",
       "0                                  Tamanho  Código\\nda\\nvariável    Quesito   \n",
       "1                                      NaN                   NaN         nº   \n",
       "2       Parte 1 - Identificação e Controle                   NaN        NaN   \n",
       "3                                        4                   Ano        NaN   \n",
       "4                                        2                    UF        NaN   \n",
       "..                                     ...                   ...        ...   \n",
       "527                                    NaN                   NaN        NaN   \n",
       "528                                    NaN                   NaN        NaN   \n",
       "529                                      2                  F006         F6   \n",
       "530                                    NaN                   NaN        NaN   \n",
       "531                                    NaN                   NaN        NaN   \n",
       "\n",
       "                                            Unnamed: 3  Unnamed: 4  \\\n",
       "0                                                  NaN  Categorias   \n",
       "1                                            Descrição       Tipo    \n",
       "2                                                  NaN         NaN   \n",
       "3                                    Ano de referência         NaN   \n",
       "4                                 Unidade da Federação          11   \n",
       "..                                                 ...         ...   \n",
       "527                                                NaN           2   \n",
       "528                                                NaN           9   \n",
       "529  Número de ordem do morador que prestou as info...      1 a 30   \n",
       "530                                                NaN          99   \n",
       "531                                                NaN         NaN   \n",
       "\n",
       "                     Unnamed: 5  \n",
       "0                           NaN  \n",
       "1                     Descrição  \n",
       "2                           NaN  \n",
       "3                           NaN  \n",
       "4                      Rondônia  \n",
       "..                          ...  \n",
       "527         Pessoa não moradora  \n",
       "528                    Ignorado  \n",
       "529  Número de ordem do morador  \n",
       "530                    Ignorado  \n",
       "531                Não aplicado  \n",
       "\n",
       "[532 rows x 6 columns]"
      ]
     },
     "execution_count": 39,
     "metadata": {},
     "output_type": "execute_result"
    }
   ],
   "source": [
    "# read Dicionario_PNAD_COVID_052020_20220621.xls\n",
    "df_dic = pd.read_excel('../dados_projeto\\documentacao\\Dicionario_PNAD_COVID_052020_20220621.xls', sheet_name='dicionário pnad covid')\n",
    "df_dic"
   ]
  },
  {
   "cell_type": "code",
   "execution_count": 45,
   "metadata": {},
   "outputs": [
    {
     "data": {
      "text/plain": [
       "114"
      ]
     },
     "execution_count": 45,
     "metadata": {},
     "output_type": "execute_result"
    }
   ],
   "source": [
    "count = 0\n",
    "for coluna in common_columns:\n",
    "    if coluna in df_dic['Unnamed: 1'].dropna().tolist():\n",
    "        count += 1\n",
    "count"
   ]
  },
  {
   "cell_type": "code",
   "execution_count": 47,
   "metadata": {},
   "outputs": [
    {
     "data": {
      "text/plain": [
       "114"
      ]
     },
     "execution_count": 47,
     "metadata": {},
     "output_type": "execute_result"
    }
   ],
   "source": [
    "#create a dict with the columns names (Unnamed: 1) and the description that is on Unnamed: 3 that are on common_columns\n",
    "dict_columns = {}\n",
    "for coluna in common_columns:\n",
    "    if coluna in df_dic['Unnamed: 1'].dropna().tolist():\n",
    "        dict_columns[coluna] = df_dic[df_dic['Unnamed: 1'] == coluna]['Unnamed: 3'].values[0]\n",
    "len(dict_columns)\n"
   ]
  },
  {
   "cell_type": "code",
   "execution_count": 48,
   "metadata": {},
   "outputs": [
    {
     "data": {
      "text/plain": [
       "{'B0018': 'Na semana passada teve nariz entupido ou escorrendo?',\n",
       " 'B0034': 'Providência tomada para recuperar dos sintomas foi comprar e/ou tomar remédio por orientação médica',\n",
       " 'CAPITAL': 'Capital',\n",
       " 'D0021': 'Rendimento de pensão alimentícia, doação ou mesada em dinheiro de pessoa que não morava no domicílio',\n",
       " 'B0036': 'Providência tomada para recuperar dos sintomas foi receber visita de profissional de saúde particular ',\n",
       " 'B0032': 'Providência tomada para recuperar dos sintomas foi ligar para algum profissional de saúde',\n",
       " 'V1023': 'Tipo de área',\n",
       " 'C013': 'Na semana passada, o(a) Sr(a) estava em trabalho remoto (home office ou teletrabalho)?',\n",
       " 'C007B': 'Tem carteira de trabalho assinada ou é funcionário público estatutário?',\n",
       " 'RM_RIDE': 'Região Metropolitana e Região Administrativa Integrada\\nde Desenvolvimento',\n",
       " 'D0073': 'Somatório dos valores recebidos',\n",
       " 'C0101': 'Recebia/retirava normalmente em dinheiro',\n",
       " 'F0021': 'Qual foi o valor mensal do aluguel pago, ou que deveria ter sido pago, no mês de referência?',\n",
       " 'B0013': 'Na semana passada teve dor de garganta?',\n",
       " 'C001': 'Na semana passada, por pelo menos uma hora, trabalhou ou fez algum bico?',\n",
       " 'C0103': 'Recebia normalmente somente em benefícios',\n",
       " 'B0019': 'Na semana passada teve fadiga?',\n",
       " 'B0037': 'Providência tomada para recuperar dos sintomas foi outra',\n",
       " 'C01011': 'Número da faixa do rendimento/retirada em dinheiro',\n",
       " 'A001B3': 'Ano de nascimento',\n",
       " 'C011A2': 'Recebia efetivamente em produtos e mercadorias',\n",
       " 'C007E': 'Na semana passada, quantos empregados trabalhavam nesse negócio/empresa que ... tinha ?',\n",
       " 'F0022': 'Número da faixa do aluguel pago',\n",
       " 'C007C': 'Que tipo de trabalho, cargo ou função você realiza no seu trabalho (único ou principal)? ',\n",
       " 'B0016': 'Na semana passada teve dor no peito?',\n",
       " 'C014': 'O(A) Sr(a) contribui para o INSS?  ',\n",
       " 'C0104': 'Era não remunerado',\n",
       " 'D0051': 'Auxílios emergenciais relacionados ao coronavirus',\n",
       " 'C005': 'Há quanto tempo está afastado desse trabalho?',\n",
       " 'B0015': 'Na semana passada teve dor de cabeça?',\n",
       " 'B0041': 'Local que buscou atendimento foi posto de saúde/Unidade básica de saúde /Equipe de Saúde da Família (médico, enfermeiro, técnico de enfermagem ou agente comunitário de saúde)',\n",
       " 'D0013': 'Somatório dos valores recebidos',\n",
       " 'A002': 'Idade do morador ',\n",
       " 'C007': 'No trabalho (único ou principal) que tinha nessa semana, era:',\n",
       " 'B002': 'Por causa disso, foi a algum estabelecimento de saúde?',\n",
       " 'C011A12': 'Valor em dinheiro',\n",
       " 'C011A': 'Quanto recebia (ou retirava) efetivamente em todos os seus trabalhos',\n",
       " 'B0033': 'Providência tomada  para recuperar dos sintomas foi comprar e/ou tomar  remédio por conta própria',\n",
       " 'B0045': 'Local que buscou atendimento foi pronto socorro privado ou ligado às forças armadas',\n",
       " 'C007A': 'Esse trabalho era na área:',\n",
       " 'B005': 'Ao procurar o hospital, teve que ficar internado por um dia ou mais',\n",
       " 'F006': 'Número de ordem do morador que prestou as informações',\n",
       " 'C009': 'Quantas horas, na semana passada, de fato trabalhou?',\n",
       " 'C007E1': '1 a 5 empregados',\n",
       " 'B006': 'Durante a internação, foi sedado, entubado e colocado em respiração artificial com ventilador',\n",
       " 'C017A': 'Embora você não tenha procurado trabalho, gostaria de ter trabalhado na semana passada?',\n",
       " 'V1008': 'Número de seleção do domicílio',\n",
       " 'D0053': 'Somatório dos valores recebidos',\n",
       " 'C01012': 'Valor em dinheiro',\n",
       " 'C011A22': 'Valor em produtos e mercadorias',\n",
       " 'V1013': 'Mês da pesquisa',\n",
       " 'A004': 'Cor ou raça',\n",
       " 'C011A21': 'Número da faixa do rendimento/retirada em produtos e mercadorias',\n",
       " 'V1032': 'Peso do domicílio e das pessoas',\n",
       " 'C016': 'Qual o principal motivo de não ter procurado trabalho na semana passada? ',\n",
       " 'B0011': 'Na semana passada teve febre?',\n",
       " 'B0031': 'Providência tomada para recuperar dos sintomas foi ficar em casa',\n",
       " 'V1031': 'Peso do domicílio e das pessoas',\n",
       " 'Ano': 'Ano de referência',\n",
       " 'B00111': 'Na semana passada teve perda de cheiro ou sabor?',\n",
       " 'B0044': 'Local que buscou atendimento foi ambulatório ou consultório privado ou ligado às forças armadas',\n",
       " 'D0023': 'Somatório dos valores recebidos',\n",
       " 'V1022': 'Situação do domicílio',\n",
       " 'C0052': 'tempo que estava afastado (De 1 ano a menos de 2 anos) ',\n",
       " 'A001B1': 'Dia de nascimento',\n",
       " 'B00112': 'Na semana passada teve dor muscular?',\n",
       " 'D0031': 'Rendimentos de Programa Bolsa Família',\n",
       " 'A001A': 'Condição no domicílio',\n",
       " 'B00110': 'Na semana passada teve dor nos olhos?',\n",
       " 'F0061': 'Quem respondeu ao questionário?',\n",
       " 'D0043': 'Somatório dos valores recebidos',\n",
       " 'V1016': 'Número da entrevista no domicílio',\n",
       " 'D0071': 'Outros rendimentos, como aluguel, arrendamento, previdência privada, bolsa de estudos, rendimentos de aplicação financeira etc.',\n",
       " 'C0051': ' tempo que estava afastado (De 1 mês a menos de 1 ano) ',\n",
       " 'C015': 'Na semana passada ___ tomou alguma providência efetiva para conseguir trabalho?  ',\n",
       " 'Estrato': 'Estrato',\n",
       " 'A005': 'Escolaridade',\n",
       " 'B0042': 'Local que buscou atendimento foi pronto socorro do SUS/UPA',\n",
       " 'UPA': 'UPA',\n",
       " 'C004': 'Continuou a ser remunerado (mesmo que parcialmente) por esse trabalho',\n",
       " 'C011A1': 'Recebia/retirava efetivamente em dinheiro',\n",
       " 'A001B2': 'Mês de nascimento',\n",
       " 'B0046': 'Local que buscou atendimento foi hospital privado ou ligado às forças armadas',\n",
       " 'C01022': 'Valor em produtos e mercadorias',\n",
       " 'B0012': 'Na semana passada teve tosse?',\n",
       " 'D0063': 'Somatório dos valores recebidos',\n",
       " 'UF': 'Unidade da Federação',\n",
       " 'C002': 'Na semana passada, estava temporariamente afastado de algum trabalho?',\n",
       " 'B0043': 'Local que buscou atendimento foi hospital do SUS',\n",
       " 'C011A11': 'Número da faixa do rendimento/retirada em dinheiro',\n",
       " 'C010': 'Quanto recebia (ou retirava) normalmente em todos os seus trabalhos',\n",
       " 'V1030': 'Projeção da população',\n",
       " 'C006': 'Tem mais de um trabalho',\n",
       " 'F001': 'Este domicílio é: ',\n",
       " 'C007D': 'Qual é a principal atividade do local ou empresa em que você trabalha? ',\n",
       " 'C01021': 'Número da faixa do rendimento/retirada em produtos e mercadorias',\n",
       " 'B007': 'Tem algum plano de saúde médico, seja particular, de empresa ou de órgão público',\n",
       " 'B0035': 'Providência tomada para recuperar dos sintomas foi receber visita de algum profissional de saúde do SUS (equipe de saúde da família, agente comunitário, etc.)',\n",
       " 'A003': 'Sexo',\n",
       " 'D0011': 'Rendimento recebido de aposentadoria e pensão por todos os moradores',\n",
       " 'C003': 'Qual o principal motivo deste afastamento temporário?',\n",
       " 'D0033': 'Somatório dos valores recebidos',\n",
       " 'C0102': 'Recebia normalmente em produtos e mercadorias',\n",
       " 'B0017': 'Na semana passada teve náusea?',\n",
       " 'A001': 'Número de ordem',\n",
       " 'D0041': ' No mês de ... (mês de referência), ... recebeu rendimentos de Benefício Assistencial de Prestação Continuada – BPC-LOAS?',\n",
       " 'B0014': 'Na semana passada teve dificuldade para respirar?',\n",
       " 'V1012': 'Semana no mês',\n",
       " 'D0061': 'Seguro desemprego',\n",
       " 'C0053': 'tempo que estava afastado (de 02 anos a 98 anos) ',\n",
       " 'C008': 'Quantas horas, por semana, normalmente trabalhava?',\n",
       " 'C007E2': '6 a 10 empregados',\n",
       " 'C012': 'Na maior parte do tempo, na semana passada, esse trabalho (único ou principal) foi exercido no mesmo local em que costuma trabalhar? ',\n",
       " 'posest': 'Domínios de projeção'}"
      ]
     },
     "execution_count": 48,
     "metadata": {},
     "output_type": "execute_result"
    }
   ],
   "source": [
    "dict_columns"
   ]
  },
  {
   "cell_type": "code",
   "execution_count": 54,
   "metadata": {},
   "outputs": [
    {
     "data": {
      "text/plain": [
       "(2650459, 115)"
      ]
     },
     "execution_count": 54,
     "metadata": {},
     "output_type": "execute_result"
    }
   ],
   "source": [
    "df.shape"
   ]
  },
  {
   "cell_type": "code",
   "execution_count": 53,
   "metadata": {},
   "outputs": [
    {
     "data": {
      "text/plain": [
       "B0034      2525753\n",
       "CAPITAL    2028214\n",
       "B0036      2525753\n",
       "B0032      2525753\n",
       "C013       2532089\n",
       "            ...   \n",
       "C0102      2640073\n",
       "C0053      2649057\n",
       "C008       1645025\n",
       "C007E2     2646277\n",
       "C012       1757214\n",
       "Length: 69, dtype: int64"
      ]
     },
     "execution_count": 53,
     "metadata": {},
     "output_type": "execute_result"
    }
   ],
   "source": [
    "#count NaN on df only show more than 0\n",
    "df.isna().sum()[df.isna().sum() > 0]"
   ]
  },
  {
   "cell_type": "code",
   "execution_count": 60,
   "metadata": {},
   "outputs": [
    {
     "data": {
      "text/plain": [
       "118370"
      ]
     },
     "execution_count": 60,
     "metadata": {},
     "output_type": "execute_result"
    }
   ],
   "source": [
    "#count different values on column C013\n",
    "df['C013'].value_counts().sum() "
   ]
  },
  {
   "cell_type": "code",
   "execution_count": 63,
   "metadata": {},
   "outputs": [
    {
     "data": {
      "text/plain": [
       "(2650459, 115)"
      ]
     },
     "execution_count": 63,
     "metadata": {},
     "output_type": "execute_result"
    }
   ],
   "source": [
    "df.shape"
   ]
  },
  {
   "cell_type": "code",
   "execution_count": 92,
   "metadata": {},
   "outputs": [],
   "source": [
    "#replace {1: 'Sim', 2: 'Não', None: 'Não informado'} all df\n",
    "df_tratado = df.replace({1: 'Sim', 2: 'Não', None: 'Não informado', 'NaN': 'Não informado'}).fillna('Não informado')"
   ]
  },
  {
   "cell_type": "markdown",
   "metadata": {},
   "source": [
    "# Selecionando as colunas\n",
    "Essa etapa foi feita de maneira manual, lendo o dicionario de dados e entendendo os dados o que eles representam"
   ]
  },
  {
   "cell_type": "code",
   "execution_count": 98,
   "metadata": {},
   "outputs": [
    {
     "name": "stdout",
     "output_type": "stream",
     "text": [
      "['B0011', 'B0012', 'B0014', 'B0015', 'B0013', 'B0018', 'B0019', 'B0016', 'B0017', 'B00111', 'B005', 'A005', 'B0041', 'B0044', 'B0042', 'B0043', 'B006', 'B007', 'C013', 'D0061', 'D0051', 'C007B', 'table']\n"
     ]
    }
   ],
   "source": [
    "# Questões de Saúde\n",
    "questoes_saude = [\n",
    "    \"B0011\",\n",
    "    \"B0012\",\n",
    "    \"B0014\",\n",
    "    \"B0015\",\n",
    "    \"B0013\",\n",
    "    \"B0018\",\n",
    "    \"B0019\",\n",
    "    \"B0016\",\n",
    "    \"B0017\",\n",
    "    \"B00111\",\n",
    "    \"B005\"\n",
    "]\n",
    "\n",
    "# Questões Socioeconômicas\n",
    "questoes_socioeconomicas = [\n",
    "    \"A005\",\n",
    "    \"B0041\",\n",
    "    \"B0044\",\n",
    "    \"B0042\",\n",
    "    \"B0043\",\n",
    "    \"B006\",\n",
    "    \"B007\",\n",
    "    \"C013\",\n",
    "    \"D0061\",\n",
    "    \"D0051\",\n",
    "    \"C007B\"\n",
    "]\n",
    "\n",
    "# Lista combinada\n",
    "lista_codigos = questoes_saude + questoes_socioeconomicas + ['table']\n",
    "\n",
    "# Exibição da lista de códigos\n",
    "print(lista_codigos)\n"
   ]
  },
  {
   "cell_type": "code",
   "execution_count": 99,
   "metadata": {},
   "outputs": [
    {
     "data": {
      "text/plain": [
       "(2650459, 23)"
      ]
     },
     "execution_count": 99,
     "metadata": {},
     "output_type": "execute_result"
    }
   ],
   "source": [
    "# create a new df with only columns on lista_codigos\n",
    "df_tratado_selecionado = df_tratado[lista_codigos]\n",
    "df_tratado_selecionado.shape"
   ]
  },
  {
   "cell_type": "code",
   "execution_count": 100,
   "metadata": {},
   "outputs": [
    {
     "name": "stderr",
     "output_type": "stream",
     "text": [
      "C:\\Users\\Igor\\AppData\\Local\\Temp\\ipykernel_26680\\508022317.py:2: SettingWithCopyWarning: \n",
      "A value is trying to be set on a copy of a slice from a DataFrame.\n",
      "Try using .loc[row_indexer,col_indexer] = value instead\n",
      "\n",
      "See the caveats in the documentation: https://pandas.pydata.org/pandas-docs/stable/user_guide/indexing.html#returning-a-view-versus-a-copy\n",
      "  df_tratado_selecionado['teve_sintomas'] = df_tratado_selecionado.apply(lambda row: 1 if row['B0011'] == 'Sim' or row['B0012'] == 'Sim' or row['B0014'] == 'Sim' or row['B0015'] == 'Sim' or row['B0013'] == 'Sim' or row['B0018'] == 'Sim' or row['B0019'] == 'Sim' or row['B0016'] == 'Sim' or row['B0017'] == 'Sim' or row['B00111'] == 'Sim' else 0, axis=1)\n"
     ]
    }
   ],
   "source": [
    "#\"B0011\",\"B0012\",\"B0014\",\"B0015\",\"B0013\",\"B0018\",\"B0019\",\"B0016\",\"B0017\",\"B00111\" se alguma tiver sim criar coluna com 1 nome da coluna é teve sintoma de covid\n",
    "df_tratado_selecionado['teve_sintomas'] = df_tratado_selecionado.apply(lambda row: 1 if row['B0011'] == 'Sim' or row['B0012'] == 'Sim' or row['B0014'] == 'Sim' or row['B0015'] == 'Sim' or row['B0013'] == 'Sim' or row['B0018'] == 'Sim' or row['B0019'] == 'Sim' or row['B0016'] == 'Sim' or row['B0017'] == 'Sim' or row['B00111'] == 'Sim' else 0, axis=1)"
   ]
  },
  {
   "cell_type": "code",
   "execution_count": 101,
   "metadata": {},
   "outputs": [
    {
     "data": {
      "text/plain": [
       "B0042\n",
       "Não informado    2615843\n",
       "Não                27129\n",
       "Sim                 7187\n",
       "9.0                  300\n",
       "Name: count, dtype: int64"
      ]
     },
     "execution_count": 101,
     "metadata": {},
     "output_type": "execute_result"
    }
   ],
   "source": [
    "df_tratado_selecionado['B0042'].value_counts(dropna=False)"
   ]
  },
  {
   "cell_type": "code",
   "execution_count": 103,
   "metadata": {},
   "outputs": [
    {
     "data": {
      "text/plain": [
       "(2650459, 24)"
      ]
     },
     "execution_count": 103,
     "metadata": {},
     "output_type": "execute_result"
    }
   ],
   "source": [
    "df_tratado_selecionado.shape"
   ]
  },
  {
   "cell_type": "code",
   "execution_count": 104,
   "metadata": {},
   "outputs": [
    {
     "data": {
      "text/plain": [
       "Index(['B0011', 'B0012', 'B0014', 'B0015', 'B0013', 'B0018', 'B0019', 'B0016',\n",
       "       'B0017', 'B00111', 'B005', 'A005', 'B0041', 'B0044', 'B0042', 'B0043',\n",
       "       'B006', 'B007', 'C013', 'D0061', 'D0051', 'C007B', 'table',\n",
       "       'teve_sintomas'],\n",
       "      dtype='object')"
      ]
     },
     "execution_count": 104,
     "metadata": {},
     "output_type": "execute_result"
    }
   ],
   "source": [
    "df_tratado_selecionado.columns"
   ]
  },
  {
   "cell_type": "code",
   "execution_count": 102,
   "metadata": {},
   "outputs": [],
   "source": [
    "#save df_tratado_selecionado\n",
    "df_tratado_selecionado.to_csv('../dados_projeto\\df_tratado_selecionado.csv', index=False)"
   ]
  },
  {
   "cell_type": "code",
   "execution_count": null,
   "metadata": {},
   "outputs": [],
   "source": []
  },
  {
   "cell_type": "code",
   "execution_count": null,
   "metadata": {},
   "outputs": [],
   "source": []
  }
 ],
 "metadata": {
  "kernelspec": {
   "display_name": ".venv",
   "language": "python",
   "name": "python3"
  },
  "language_info": {
   "codemirror_mode": {
    "name": "ipython",
    "version": 3
   },
   "file_extension": ".py",
   "mimetype": "text/x-python",
   "name": "python",
   "nbconvert_exporter": "python",
   "pygments_lexer": "ipython3",
   "version": "3.11.3"
  }
 },
 "nbformat": 4,
 "nbformat_minor": 2
}
